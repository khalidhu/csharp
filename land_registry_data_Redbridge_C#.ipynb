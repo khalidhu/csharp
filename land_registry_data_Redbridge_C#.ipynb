{
 "cells": [
  {
   "cell_type": "code",
   "execution_count": 45,
   "metadata": {},
   "outputs": [
    {
     "data": {
      "text/html": [
       "Installing package CsvHelper.done!"
      ]
     },
     "metadata": {},
     "output_type": "display_data"
    },
    {
     "data": {
      "text/html": [
       "Successfully added reference to package CsvHelper, version 15.0.4"
      ]
     },
     "metadata": {},
     "output_type": "display_data"
    }
   ],
   "source": [
    "#r “nuget:CsvHelper” "
   ]
  },
  {
   "cell_type": "code",
   "execution_count": 46,
   "metadata": {},
   "outputs": [],
   "source": [
    "using System;\n",
    "using System.Globalization;\n",
    "using System.IO;\n",
    "using CsvHelper.Configuration;\n",
    "using CsvHelper;\n",
    "using System.Linq;\n",
    "using System.Collections.Generic;"
   ]
  },
  {
   "cell_type": "code",
   "execution_count": 47,
   "metadata": {},
   "outputs": [
    {
     "data": {
      "text/plain": [
       "\\Education\\property_analysis\\data\\ppd_data_Ilford.csv"
      ]
     },
     "execution_count": 47,
     "metadata": {},
     "output_type": "execute_result"
    }
   ],
   "source": [
    "DateTime  startDate =  new DateTime(2019, 01, 01);;\n",
    "const string directory = \"\\\\Education\\\\property_analysis\\\\data\\\\\";\n",
    "const string propertyFile = \"ppd_data_Ilford\";\n",
    "const string suffix = \"csv\";\n",
    "\n",
    "string filePath = Path.Combine(directory, propertyFile + \".\" + suffix);\n",
    "filePath"
   ]
  },
  {
   "cell_type": "code",
   "execution_count": 48,
   "metadata": {},
   "outputs": [
    {
     "data": {
      "text/html": [
       "<table><thead><tr><th><i>index</i></th><th>value</th></tr></thead><tbody><tr><td>0</td><td>IG1</td></tr><tr><td>1</td><td>IG2</td></tr><tr><td>2</td><td>IG3</td></tr><tr><td>3</td><td>IG4</td></tr><tr><td>4</td><td>IG5</td></tr><tr><td>5</td><td>IG6</td></tr></tbody></table>"
      ]
     },
     "execution_count": 48,
     "metadata": {},
     "output_type": "execute_result"
    }
   ],
   "source": [
    "List<string> codes = new List<string>() {\"IG1\", \"IG2\", \"IG3\", \"IG4\", \"IG5\", \"IG6\" };\n",
    "codes"
   ]
  },
  {
   "cell_type": "code",
   "execution_count": 49,
   "metadata": {},
   "outputs": [
    {
     "data": {
      "text/html": [
       "<table><thead><tr><th><i>key</i></th><th>value</th></tr></thead><tbody><tr><td>D</td><td>Detached</td></tr><tr><td>S</td><td>Semi-detached</td></tr><tr><td>T</td><td>Terraced</td></tr><tr><td>F</td><td>Flat</td></tr></tbody></table>"
      ]
     },
     "execution_count": 49,
     "metadata": {},
     "output_type": "execute_result"
    }
   ],
   "source": [
    "Dictionary<string, string> propertyTypeLookup = new Dictionary<string, string>()\n",
    "{{\"D\",\"Detached\"},{\"S\",\"Semi-detached\"},{\"T\", \"Terraced\"},{\"F\", \"Flat\"}};\n",
    "\n",
    "propertyTypeLookup"
   ]
  },
  {
   "cell_type": "code",
   "execution_count": 50,
   "metadata": {},
   "outputs": [],
   "source": [
    "//error handle the file"
   ]
  },
  {
   "cell_type": "code",
   "execution_count": 51,
   "metadata": {},
   "outputs": [],
   "source": [
    "public class LandRegistryOpenData\n",
    "{\n",
    "    public double Price { get; set; }\n",
    "    public DateTime DateOfTransfer { get; set; }\n",
    "    public string PostCode { get; set; }\n",
    "    public string PropertyType { get; set; }\n",
    "    public string Street { get; set; }\n",
    "    public string City { get; set; }\n",
    "    public string District { get; set; }\n",
    "    public string County { get; set; }\n",
    "\n",
    "}\n",
    "\n",
    "public class LandRegistryOpenDataMap : ClassMap<LandRegistryOpenData>\n",
    "{\n",
    "    public LandRegistryOpenDataMap()\n",
    "    {\n",
    "\n",
    "        Map(m => m.Price).Index(1);\n",
    "        Map(m => m.DateOfTransfer).Index(2);\n",
    "        Map(m => m.PostCode).Index(3);\n",
    "        Map(m => m.PropertyType).Index(4);\n",
    "        Map(m => m.Street).Index(9);\n",
    "\n",
    "        Map(m => m.City).Index(11);\n",
    "        Map(m => m.District).Index(12);\n",
    "        Map(m => m.County).Index(13);\n",
    "    }\n",
    "\n",
    "}"
   ]
  },
  {
   "cell_type": "code",
   "execution_count": 52,
   "metadata": {},
   "outputs": [],
   "source": [
    "static string GetPostcode(string value) => value.Split(\" \")[0]; \n",
    "\n",
    "\n",
    "static string GetPropertyType(string value, Dictionary<string,string> property) \n",
    "    => property.ContainsKey(value) ? property[value] : value;\n",
    "\n",
    "\n",
    "public static double Median(this IEnumerable<double> source)\n",
    "{\n",
    "        if (source.Count() == 0)\n",
    "        {\n",
    "            throw new InvalidOperationException(\"Cannot compute median for an empty set.\");\n",
    "        }\n",
    "\n",
    "        var sortedList = from number in source\n",
    "                         orderby number\n",
    "                         select number;\n",
    "\n",
    "        int itemIndex = (int)sortedList.Count() / 2;\n",
    "\n",
    "        if (sortedList.Count() % 2 == 0)\n",
    "        {\n",
    "            // Even number of items.\n",
    "            return (sortedList.ElementAt(itemIndex) + sortedList.ElementAt(itemIndex - 1)) / 2;\n",
    "        }\n",
    "        else\n",
    "        {\n",
    "            // Odd number of items.\n",
    "            return sortedList.ElementAt(itemIndex);\n",
    "        }\n",
    "}\n",
    "\n",
    "public static double Median<T>(this IEnumerable<T> numbers, Func<T, double> selector)\n",
    "    => (from num in numbers select selector(num)).Median();"
   ]
  },
  {
   "cell_type": "code",
   "execution_count": 53,
   "metadata": {},
   "outputs": [],
   "source": [
    "public static IEnumerable<Tuple<T, T>> SelectAdjacent<T>(this IEnumerable<T> source)\n",
    "{\n",
    "    using (var iterator = source.GetEnumerator())\n",
    "    {\n",
    "        if (!iterator.MoveNext())\n",
    "        {\n",
    "            yield break;\n",
    "        }\n",
    "        T previous = iterator.Current;\n",
    "        while (iterator.MoveNext())\n",
    "        {\n",
    "            yield return new Tuple<T, T>(previous, iterator.Current);\n",
    "            previous = iterator.Current;\n",
    "        }\n",
    "    }\n",
    "}"
   ]
  },
  {
   "cell_type": "code",
   "execution_count": 54,
   "metadata": {},
   "outputs": [],
   "source": [
    "private static IEnumerable<T> GetRecords<T, TMap>(string filename) where TMap : ClassMap\n",
    "{\n",
    "    using (var reader = new StreamReader(filename))\n",
    "    {\n",
    "        using(var csvReader = new CsvReader(reader, CultureInfo.InvariantCulture)) \n",
    "        {\n",
    "            csvReader.Configuration.RegisterClassMap<TMap>();\n",
    "            return Enumerable.ToList(csvReader.GetRecords<T>());\n",
    "        }\n",
    "    }\n",
    "}"
   ]
  },
  {
   "cell_type": "code",
   "execution_count": 55,
   "metadata": {},
   "outputs": [
    {
     "data": {
      "text/plain": [
       "59727"
      ]
     },
     "execution_count": 55,
     "metadata": {},
     "output_type": "execute_result"
    }
   ],
   "source": [
    "GetRecords<LandRegistryOpenData,LandRegistryOpenDataMap>(filePath).Count()"
   ]
  },
  {
   "cell_type": "code",
   "execution_count": 56,
   "metadata": {
    "scrolled": true
   },
   "outputs": [
    {
     "data": {
      "text/html": [
       "<table><thead><tr><th><i>index</i></th><th>Price</th><th>DateOfTransfer</th><th>PostCode</th><th>PropertyType</th><th>Street</th><th>City</th><th>District</th><th>County</th></tr></thead><tbody><tr><td>0</td><td>140000</td><td>2006-03-06 00:00:00Z</td><td>IG1 1AN</td><td>F</td><td>PIPER WAY</td><td>ILFORD</td><td>REDBRIDGE</td><td>GREATER LONDON</td></tr><tr><td>1</td><td>180000</td><td>2006-05-26 00:00:00Z</td><td>IG1 1AN</td><td>F</td><td>PIPER WAY</td><td>ILFORD</td><td>REDBRIDGE</td><td>GREATER LONDON</td></tr><tr><td>2</td><td>140000</td><td>2006-03-06 00:00:00Z</td><td>IG1 1AN</td><td>F</td><td>PIPER WAY</td><td>ILFORD</td><td>REDBRIDGE</td><td>GREATER LONDON</td></tr><tr><td>3</td><td>173250</td><td>2005-12-16 00:00:00Z</td><td>IG1 1AN</td><td>F</td><td>PIPER WAY</td><td>ILFORD</td><td>REDBRIDGE</td><td>GREATER LONDON</td></tr><tr><td>4</td><td>11000000</td><td>2017-05-09 00:00:00Z</td><td>IG1 1AS</td><td>O</td><td>THE EXCHANGE</td><td>ILFORD</td><td>REDBRIDGE</td><td>GREATER LONDON</td></tr><tr><td>5</td><td>10000</td><td>2018-09-10 00:00:00Z</td><td>IG1 1AS</td><td>O</td><td>THE EXCHANGE</td><td>ILFORD</td><td>REDBRIDGE</td><td>GREATER LONDON</td></tr><tr><td>6</td><td>2000</td><td>2014-09-05 00:00:00Z</td><td>IG1 1BA</td><td>O</td><td>CLEMENTS ROAD</td><td>ILFORD</td><td>REDBRIDGE</td><td>GREATER LONDON</td></tr><tr><td>7</td><td>2000</td><td>2014-09-05 00:00:00Z</td><td>IG1 1BA</td><td>O</td><td>CLEMENTS ROAD</td><td>ILFORD</td><td>REDBRIDGE</td><td>GREATER LONDON</td></tr><tr><td>8</td><td>2000</td><td>2014-09-05 00:00:00Z</td><td>IG1 1BA</td><td>O</td><td>CLEMENTS ROAD</td><td>ILFORD</td><td>REDBRIDGE</td><td>GREATER LONDON</td></tr><tr><td>9</td><td>2000</td><td>2014-09-05 00:00:00Z</td><td>IG1 1BA</td><td>O</td><td>CLEMENTS ROAD</td><td>ILFORD</td><td>REDBRIDGE</td><td>GREATER LONDON</td></tr></tbody></table>"
      ]
     },
     "execution_count": 56,
     "metadata": {},
     "output_type": "execute_result"
    }
   ],
   "source": [
    "GetRecords<LandRegistryOpenData,LandRegistryOpenDataMap>(filePath).Take(10)"
   ]
  },
  {
   "cell_type": "code",
   "execution_count": 57,
   "metadata": {
    "scrolled": false
   },
   "outputs": [
    {
     "data": {
      "text/html": [
       "<table><thead><tr><th><i>index</i></th><th>Outcode</th><th>PropertyType</th><th>Price</th><th>DateOfTransfer</th><th>PostCode</th><th>Street</th><th>City</th><th>District</th><th>County</th></tr></thead><tbody><tr><td>0</td><td>IG1</td><td>Flat</td><td>140000</td><td>2006-03-06 00:00:00Z</td><td>IG1 1AN</td><td>PIPER WAY</td><td>ILFORD</td><td>REDBRIDGE</td><td>GREATER LONDON</td></tr><tr><td>1</td><td>IG1</td><td>Flat</td><td>180000</td><td>2006-05-26 00:00:00Z</td><td>IG1 1AN</td><td>PIPER WAY</td><td>ILFORD</td><td>REDBRIDGE</td><td>GREATER LONDON</td></tr><tr><td>2</td><td>IG1</td><td>Flat</td><td>140000</td><td>2006-03-06 00:00:00Z</td><td>IG1 1AN</td><td>PIPER WAY</td><td>ILFORD</td><td>REDBRIDGE</td><td>GREATER LONDON</td></tr><tr><td>3</td><td>IG1</td><td>Flat</td><td>173250</td><td>2005-12-16 00:00:00Z</td><td>IG1 1AN</td><td>PIPER WAY</td><td>ILFORD</td><td>REDBRIDGE</td><td>GREATER LONDON</td></tr><tr><td>4</td><td>IG1</td><td>O</td><td>11000000</td><td>2017-05-09 00:00:00Z</td><td>IG1 1AS</td><td>THE EXCHANGE</td><td>ILFORD</td><td>REDBRIDGE</td><td>GREATER LONDON</td></tr><tr><td>5</td><td>IG1</td><td>O</td><td>10000</td><td>2018-09-10 00:00:00Z</td><td>IG1 1AS</td><td>THE EXCHANGE</td><td>ILFORD</td><td>REDBRIDGE</td><td>GREATER LONDON</td></tr><tr><td>6</td><td>IG1</td><td>O</td><td>2000</td><td>2014-09-05 00:00:00Z</td><td>IG1 1BA</td><td>CLEMENTS ROAD</td><td>ILFORD</td><td>REDBRIDGE</td><td>GREATER LONDON</td></tr><tr><td>7</td><td>IG1</td><td>O</td><td>2000</td><td>2014-09-05 00:00:00Z</td><td>IG1 1BA</td><td>CLEMENTS ROAD</td><td>ILFORD</td><td>REDBRIDGE</td><td>GREATER LONDON</td></tr><tr><td>8</td><td>IG1</td><td>O</td><td>2000</td><td>2014-09-05 00:00:00Z</td><td>IG1 1BA</td><td>CLEMENTS ROAD</td><td>ILFORD</td><td>REDBRIDGE</td><td>GREATER LONDON</td></tr><tr><td>9</td><td>IG1</td><td>O</td><td>2000</td><td>2014-09-05 00:00:00Z</td><td>IG1 1BA</td><td>CLEMENTS ROAD</td><td>ILFORD</td><td>REDBRIDGE</td><td>GREATER LONDON</td></tr></tbody></table>"
      ]
     },
     "execution_count": 57,
     "metadata": {},
     "output_type": "execute_result"
    }
   ],
   "source": [
    "var dataset  = GetRecords<LandRegistryOpenData,LandRegistryOpenDataMap>(filePath)\n",
    "                                    .Select(p => new{\n",
    "                                    Outcode = GetPostcode(p.PostCode),\n",
    "                                    PropertyType = GetPropertyType(p.PropertyType, propertyTypeLookup),\n",
    "                                    p.Price,\n",
    "                                    p.DateOfTransfer,\n",
    "                                    p.PostCode,\n",
    "                                    p.Street,\n",
    "                                    p.City,\n",
    "                                    p.District,\n",
    "                                    p.County,\n",
    "                                });\n",
    "dataset.Take(10)"
   ]
  },
  {
   "cell_type": "code",
   "execution_count": 58,
   "metadata": {
    "scrolled": true
   },
   "outputs": [
    {
     "data": {
      "text/html": [
       "<table><thead><tr><th><i>index</i></th><th>Outcode</th><th>PropertyType</th><th>Price</th><th>DateOfTransfer</th><th>PostCode</th><th>Street</th><th>City</th><th>District</th><th>County</th></tr></thead><tbody><tr><td>0</td><td>IG1</td><td>Flat</td><td>140000</td><td>2006-03-06 00:00:00Z</td><td>IG1 1AN</td><td>PIPER WAY</td><td>ILFORD</td><td>REDBRIDGE</td><td>GREATER LONDON</td></tr><tr><td>1</td><td>IG1</td><td>Flat</td><td>180000</td><td>2006-05-26 00:00:00Z</td><td>IG1 1AN</td><td>PIPER WAY</td><td>ILFORD</td><td>REDBRIDGE</td><td>GREATER LONDON</td></tr><tr><td>2</td><td>IG1</td><td>Flat</td><td>140000</td><td>2006-03-06 00:00:00Z</td><td>IG1 1AN</td><td>PIPER WAY</td><td>ILFORD</td><td>REDBRIDGE</td><td>GREATER LONDON</td></tr><tr><td>3</td><td>IG1</td><td>Flat</td><td>173250</td><td>2005-12-16 00:00:00Z</td><td>IG1 1AN</td><td>PIPER WAY</td><td>ILFORD</td><td>REDBRIDGE</td><td>GREATER LONDON</td></tr><tr><td>4</td><td>IG1</td><td>Flat</td><td>254000</td><td>2018-01-09 00:00:00Z</td><td>IG1 1BE</td><td>CLEMENTS ROAD</td><td>ILFORD</td><td>REDBRIDGE</td><td>GREATER LONDON</td></tr></tbody></table>"
      ]
     },
     "execution_count": 58,
     "metadata": {},
     "output_type": "execute_result"
    }
   ],
   "source": [
    "var filterResults = dataset.Where(x => !x.PropertyType.Equals(\"O\"))\n",
    "                           .Where(x => codes.Contains(x.Outcode));\n",
    "\n",
    "filterResults.Take(5)"
   ]
  },
  {
   "cell_type": "markdown",
   "metadata": {},
   "source": [
    "### Average and Median Price for all properties"
   ]
  },
  {
   "cell_type": "code",
   "execution_count": 59,
   "metadata": {},
   "outputs": [
    {
     "data": {
      "text/html": [
       "<table><thead><tr><th><i>index</i></th><th>NumberOfSales</th><th>Average</th><th>Median</th><th>Outcode</th><th>PropertyType</th></tr></thead><tbody><tr><td>0</td><td>232</td><td>211340.68</td><td>205000</td><td>IG1</td><td>Flat</td></tr><tr><td>1</td><td>191</td><td>431361.99</td><td>410000</td><td>IG1</td><td>Terraced</td></tr><tr><td>2</td><td>32</td><td>579281.25</td><td>585000</td><td>IG1</td><td>Semi-detached</td></tr><tr><td>3</td><td>3</td><td>960000</td><td>1055000</td><td>IG1</td><td>Detached</td></tr><tr><td>4</td><td>122</td><td>476733.56</td><td>477500</td><td>IG2</td><td>Terraced</td></tr><tr><td>5</td><td>87</td><td>237408.44</td><td>230000</td><td>IG2</td><td>Flat</td></tr><tr><td>6</td><td>21</td><td>542225.71</td><td>510000</td><td>IG2</td><td>Semi-detached</td></tr><tr><td>7</td><td>114</td><td>434545.18</td><td>430000</td><td>IG3</td><td>Terraced</td></tr><tr><td>8</td><td>38</td><td>216263.16</td><td>209000</td><td>IG3</td><td>Flat</td></tr><tr><td>9</td><td>11</td><td>551090.91</td><td>530000</td><td>IG3</td><td>Detached</td></tr><tr><td>10</td><td>29</td><td>504410.17</td><td>500000</td><td>IG3</td><td>Semi-detached</td></tr><tr><td>11</td><td>40</td><td>535525</td><td>542500</td><td>IG4</td><td>Terraced</td></tr><tr><td>12</td><td>22</td><td>228886.36</td><td>187500</td><td>IG4</td><td>Flat</td></tr><tr><td>13</td><td>18</td><td>582638.89</td><td>571250</td><td>IG4</td><td>Semi-detached</td></tr><tr><td>14</td><td>1</td><td>550000</td><td>550000</td><td>IG4</td><td>Detached</td></tr><tr><td>15</td><td>56</td><td>541026.77</td><td>527500</td><td>IG5</td><td>Semi-detached</td></tr><tr><td>16</td><td>45</td><td>468066.67</td><td>470000</td><td>IG5</td><td>Terraced</td></tr><tr><td>17</td><td>12</td><td>458958.33</td><td>476250</td><td>IG5</td><td>Detached</td></tr><tr><td>18</td><td>24</td><td>254589.29</td><td>272500</td><td>IG5</td><td>Flat</td></tr><tr><td>19</td><td>72</td><td>463726.39</td><td>455000</td><td>IG6</td><td>Semi-detached</td></tr><tr><td>20</td><td>145</td><td>444477.45</td><td>441000</td><td>IG6</td><td>Terraced</td></tr><tr><td>21</td><td>15</td><td>628266.67</td><td>627500</td><td>IG6</td><td>Detached</td></tr><tr><td>22</td><td>50</td><td>265004</td><td>265000</td><td>IG6</td><td>Flat</td></tr></tbody></table>"
      ]
     },
     "execution_count": 59,
     "metadata": {},
     "output_type": "execute_result"
    }
   ],
   "source": [
    "var averageData = filterResults.Where(x => x.DateOfTransfer >= startDate)\n",
    "                            .GroupBy(t => new { ID = t.Outcode, type = t.PropertyType })\n",
    "                            .Select(g => new\n",
    "                            { \n",
    "                                NumberOfSales = g.Count(),\n",
    "                                Average = Math.Round(g.Average(p => p.Price),2),\n",
    "                                Median  = g.Median(p => p.Price),\n",
    "                                Outcode = g.Key.ID,\n",
    "                                PropertyType = g.Key.type,\n",
    "                               \n",
    "                            });\n",
    "averageData"
   ]
  },
  {
   "cell_type": "markdown",
   "metadata": {},
   "source": [
    "### Average and Median Price for semi-detached and terraced property"
   ]
  },
  {
   "cell_type": "code",
   "execution_count": 60,
   "metadata": {
    "scrolled": false
   },
   "outputs": [
    {
     "data": {
      "text/html": [
       "<table><thead><tr><th><i>index</i></th><th>NumberOfSales</th><th>Average</th><th>Median</th><th>Outcode</th><th>PropertyType</th></tr></thead><tbody><tr><td>0</td><td>32</td><td>579281.25</td><td>585000</td><td>IG1</td><td>Semi-detached</td></tr><tr><td>1</td><td>18</td><td>582638.89</td><td>571250</td><td>IG4</td><td>Semi-detached</td></tr><tr><td>2</td><td>40</td><td>535525</td><td>542500</td><td>IG4</td><td>Terraced</td></tr><tr><td>3</td><td>56</td><td>541026.77</td><td>527500</td><td>IG5</td><td>Semi-detached</td></tr><tr><td>4</td><td>21</td><td>542225.71</td><td>510000</td><td>IG2</td><td>Semi-detached</td></tr><tr><td>5</td><td>29</td><td>504410.17</td><td>500000</td><td>IG3</td><td>Semi-detached</td></tr><tr><td>6</td><td>122</td><td>476733.56</td><td>477500</td><td>IG2</td><td>Terraced</td></tr><tr><td>7</td><td>45</td><td>468066.67</td><td>470000</td><td>IG5</td><td>Terraced</td></tr><tr><td>8</td><td>72</td><td>463726.39</td><td>455000</td><td>IG6</td><td>Semi-detached</td></tr><tr><td>9</td><td>145</td><td>444477.45</td><td>441000</td><td>IG6</td><td>Terraced</td></tr><tr><td>10</td><td>114</td><td>434545.18</td><td>430000</td><td>IG3</td><td>Terraced</td></tr><tr><td>11</td><td>191</td><td>431361.99</td><td>410000</td><td>IG1</td><td>Terraced</td></tr></tbody></table>"
      ]
     },
     "execution_count": 60,
     "metadata": {},
     "output_type": "execute_result"
    }
   ],
   "source": [
    "string[] type = {\"Semi-detached\",\"Terraced\"};\n",
    "averageData.Where(x => (type.Contains(x.PropertyType)))\n",
    "            .OrderByDescending(x => x.Median).ThenBy(x => x.PropertyType)"
   ]
  },
  {
   "cell_type": "markdown",
   "metadata": {},
   "source": [
    "### Top 10 turnover streets, since 2017\n"
   ]
  },
  {
   "cell_type": "code",
   "execution_count": 61,
   "metadata": {},
   "outputs": [
    {
     "data": {
      "text/html": [
       "<table><thead><tr><th><i>index</i></th><th>NumberOfSales</th><th>Outcode</th><th>Street</th></tr></thead><tbody><tr><td>0</td><td>59</td><td>IG1</td><td>HIGH ROAD</td></tr><tr><td>1</td><td>47</td><td>IG2</td><td>PERTH ROAD</td></tr><tr><td>2</td><td>46</td><td>IG1</td><td>RODEN STREET</td></tr><tr><td>3</td><td>30</td><td>IG1</td><td>ILFORD HILL</td></tr><tr><td>4</td><td>14</td><td>IG2</td><td>EASTERN AVENUE</td></tr><tr><td>5</td><td>11</td><td>IG1</td><td>THE DRIVE</td></tr><tr><td>6</td><td>10</td><td>IG1</td><td>STAINES ROAD</td></tr><tr><td>7</td><td>10</td><td>IG1</td><td>THOROLD ROAD</td></tr><tr><td>8</td><td>10</td><td>IG5</td><td>FULLWELL AVENUE</td></tr><tr><td>9</td><td>10</td><td>IG6</td><td>TOMSWOOD HILL</td></tr></tbody></table>"
      ]
     },
     "execution_count": 61,
     "metadata": {},
     "output_type": "execute_result"
    }
   ],
   "source": [
    "dataset.Where(x => (type.Contains(x.PropertyType))).AsParallel().Take(5);\n",
    "filterResults.Where(x => x.DateOfTransfer >= startDate)\n",
    "                    .GroupBy(t => new { ID = t.Outcode, street = t.Street })\n",
    "                    .OrderByDescending(g => g.Count())\n",
    "                        .Select(g => new\n",
    "                        { \n",
    "                                NumberOfSales = g.Count(),\n",
    "                        \n",
    "                                Outcode = g.Key.ID,\n",
    "                                Street = g.Key.street,\n",
    "                               \n",
    "                            }).Take(10).AsParallel()"
   ]
  },
  {
   "cell_type": "code",
   "execution_count": 62,
   "metadata": {},
   "outputs": [
    {
     "data": {
      "text/html": [
       "<table><thead><tr><th><i>index</i></th><th>Median</th><th>Year</th></tr></thead><tbody><tr><td>0</td><td>71500</td><td>1995</td></tr><tr><td>1</td><td>74000</td><td>1996</td></tr><tr><td>2</td><td>82500</td><td>1997</td></tr><tr><td>3</td><td>92000</td><td>1998</td></tr><tr><td>4</td><td>107000</td><td>1999</td></tr></tbody></table>"
      ]
     },
     "execution_count": 62,
     "metadata": {},
     "output_type": "execute_result"
    }
   ],
   "source": [
    "var yearMedainResults = filterResults\n",
    "                        .Where(x => !x.PropertyType.Equals(\"Flat\"))\n",
    "                        .OrderBy(x => x.DateOfTransfer.Year)\n",
    "                        .GroupBy(t => new { ID = t.DateOfTransfer.Year })\n",
    "                                     .Select(g => new\n",
    "                                     { \n",
    "                                        Median  = g.Median(p => p.Price),\n",
    "                                        Year = g.Key.ID,\n",
    "\n",
    "                                     });\n",
    "\n",
    "yearMedainResults.Take(5)"
   ]
  },
  {
   "cell_type": "code",
   "execution_count": 63,
   "metadata": {},
   "outputs": [],
   "source": [
    "public static IEnumerable<TResult> SelectWithPrevious<TSource, TResult>\n",
    "    (this IEnumerable<TSource> source,\n",
    "     Func<TSource, TSource, TResult> projection)\n",
    "{\n",
    "    using (var iterator = source.GetEnumerator())\n",
    "    {\n",
    "        if (!iterator.MoveNext())\n",
    "        {\n",
    "             yield break;\n",
    "        }\n",
    "        TSource previous = iterator.Current;\n",
    "        while (iterator.MoveNext())\n",
    "        {\n",
    "            yield return projection(previous, iterator.Current);\n",
    "            previous = iterator.Current;\n",
    "        }\n",
    "    }\n",
    "}"
   ]
  },
  {
   "cell_type": "markdown",
   "metadata": {},
   "source": [
    "### House price change in Redbridge"
   ]
  },
  {
   "cell_type": "code",
   "execution_count": 64,
   "metadata": {},
   "outputs": [
    {
     "data": {
      "text/html": [
       "<table><thead><tr><th><i>index</i></th><th>Year</th><th>MedianPrice</th><th>PriceChange</th></tr></thead><tbody><tr><td>0</td><td>1996</td><td>74000</td><td>3.38</td></tr><tr><td>1</td><td>1997</td><td>82500</td><td>10.3</td></tr><tr><td>2</td><td>1998</td><td>92000</td><td>10.33</td></tr><tr><td>3</td><td>1999</td><td>107000</td><td>14.02</td></tr><tr><td>4</td><td>2000</td><td>130000</td><td>17.69</td></tr><tr><td>5</td><td>2001</td><td>149000</td><td>12.75</td></tr><tr><td>6</td><td>2002</td><td>184000</td><td>19.02</td></tr><tr><td>7</td><td>2003</td><td>220000</td><td>16.36</td></tr><tr><td>8</td><td>2004</td><td>242000</td><td>9.09</td></tr><tr><td>9</td><td>2005</td><td>245000</td><td>1.22</td></tr><tr><td>10</td><td>2006</td><td>249995</td><td>2</td></tr><tr><td>11</td><td>2007</td><td>285000</td><td>12.28</td></tr><tr><td>12</td><td>2008</td><td>280000</td><td>-1.79</td></tr><tr><td>13</td><td>2009</td><td>250000</td><td>-12</td></tr><tr><td>14</td><td>2010</td><td>272000</td><td>8.09</td></tr><tr><td>15</td><td>2011</td><td>270500</td><td>-0.55</td></tr><tr><td>16</td><td>2012</td><td>275000</td><td>1.64</td></tr><tr><td>17</td><td>2013</td><td>290000</td><td>5.17</td></tr><tr><td>18</td><td>2014</td><td>337250</td><td>14.01</td></tr><tr><td>19</td><td>2015</td><td>380000</td><td>11.25</td></tr><tr><td>20</td><td>2016</td><td>435000</td><td>12.64</td></tr><tr><td>21</td><td>2017</td><td>451500</td><td>3.65</td></tr><tr><td>22</td><td>2018</td><td>460000</td><td>1.85</td></tr><tr><td>23</td><td>2019</td><td>462500</td><td>0.54</td></tr></tbody></table>"
      ]
     },
     "execution_count": 64,
     "metadata": {},
     "output_type": "execute_result"
    }
   ],
   "source": [
    "var percentagePriceChange = yearMedainResults.SelectWithPrevious((prev, cur) =>\n",
    "     new { Year = cur.Year, MedianPrice = cur.Median, PriceChange = Math.Round((cur.Median - prev.Median )/cur.Median*100,2)});\n",
    "\n",
    "percentagePriceChange"
   ]
  }
 ],
 "metadata": {
  "kernelspec": {
   "display_name": ".NET (C#)",
   "language": "C#",
   "name": ".net-csharp"
  },
  "language_info": {
   "file_extension": ".cs",
   "mimetype": "text/x-csharp",
   "name": "C#",
   "pygments_lexer": "csharp",
   "version": "8.0"
  }
 },
 "nbformat": 4,
 "nbformat_minor": 2
}
